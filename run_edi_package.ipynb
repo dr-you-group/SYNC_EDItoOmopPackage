{
 "cells": [
  {
   "cell_type": "code",
   "execution_count": 1,
   "metadata": {},
   "outputs": [],
   "source": [
    "from edi_package.device import DeviceTransform,DeviceTranslate\n",
    "from edi_package.suga import SugaTransform,SugaTranslate\n",
    "from edi_package.drug import DrugTransform,DrugTranslate\n",
    "from edi_package.sql_process import DBConnect"
   ]
  },
  {
   "cell_type": "code",
   "execution_count": 2,
   "metadata": {},
   "outputs": [],
   "source": [
    "connect = DBConnect(host=\"\",port=\"\", user=\"\", password=\"\",database=\"\")"
   ]
  },
  {
   "cell_type": "code",
   "execution_count": 6,
   "metadata": {},
   "outputs": [],
   "source": [
    "device_data = \"./dataset/Device/MEDICAL_DEVICE_PRICE_LIST_2024.1.1.기준.xlsx\"\n",
    "del_device_data = \"./dataset/Device/MEDICAL_DEVICE_PRICE_LIST_2024.1.1.기준_급여중지 및 삭제.xlsx\"\n",
    "device_translation_path = \"./result_translate_file/device_translation.csv\"\n",
    "\n",
    "device_code = \"코 드\"\n",
    "device_name = \"품 명\"\n",
    "start_date_name = \"최초등재일자\"\n",
    "end_date_name = \"적용일자\"\n",
    "material_name = \"재 질\"\n",
    "date = \"2023.10.01\"\n",
    "\n",
    "Device = DeviceTransform(device_data=device_data,\n",
    "                del_device_data=del_device_data,\n",
    "                device_code=device_code,\n",
    "                device_name=device_name,\n",
    "                start_date_name=start_date_name,\n",
    "                end_date_name=end_date_name,\n",
    "                material_name=material_name,\n",
    "                date=date).data_transform()\n",
    "\n",
    "Device_UPDATE = DeviceTranslate(device_df=Device, translation_path=device_translation_path).data_translate()\n",
    "\n",
    "connect.update_device(database=\"EDI_OMOP\", table=\"edi_voca_table\", data=Device_UPDATE)"
   ]
  },
  {
   "cell_type": "code",
   "execution_count": null,
   "metadata": {},
   "outputs": [],
   "source": [
    "suga_data = \"./dataset/Suga/의치과 수가파일(24.1.1.기준)_전체판.xlsx\"\n",
    "suga_translation_path = \"./result_translate_file/suga_translation.csv\"\n",
    "\n",
    "# Suga는 sheet name이 일정하지 않아서 사용자가 확인 후 추가를 하시면 됩니다.\n",
    "sheet_name = [\"의치과_급여_전체\", \"의치과_100대100_전체\", \"의치과_비급여_전체\"]\n",
    "date = \"2024.01.01\"\n",
    "suga_code=\"수가코드\"\n",
    "korean_name=\"한글명\"\n",
    "english_name=\"영문명\"\n",
    "start_date_name=\"적용일자\"\n",
    "sanjung_name=\"산정명칭\"\n",
    "\n",
    "suga = SugaTransform(suga_data=suga_data,\n",
    "              sheet_name=sheet_name,\n",
    "              suga_code=suga_code,\n",
    "              korean_name=korean_name,\n",
    "              english_name=english_name,\n",
    "              start_date_name=start_date_name,\n",
    "              sanjung_name=sanjung_name).data_transform()\n",
    "\n",
    "Suga_UPDATE = SugaTranslate(suga_df=suga, translation_path=suga_translation_path).data_translate()\n",
    "\n",
    "\n",
    "connect.update_data(database=\"EDI_OMOP\", table=\"edi_voca_table\",domain = \"'Procedure','Measurement'\", data = Suga_UPDATE, date= date)"
   ]
  },
  {
   "cell_type": "code",
   "execution_count": null,
   "metadata": {},
   "outputs": [],
   "source": [
    "drug_file_path = \"./dataset/Drug/약제급여목록및급여상한금액표_(2024.1.1.)(22,889)_12.26.수정.xlsx\"\n",
    "drug_translation_path = \"./result_translate_file/drug_translation.csv\"\n",
    "\n",
    "date = \"2024.01.01\"\n",
    "sheet_name = 0\n",
    "drug_code = \"제품코드\"\n",
    "drug_name = \"제품명\"\n",
    "clinical_drug_code = \"주성분코드\"\n",
    "previous_concept_code = \"목록정비전코드\"\n",
    "\n",
    "Drug = DrugTransform(drug_data=drug_file_path,\n",
    "                     sheet_name=sheet_name,\n",
    "                     drug_code=drug_code,\n",
    "                     drug_name=drug_name,\n",
    "                     clinical_drug_code=clinical_drug_code,\n",
    "                     previous_concept_code=previous_concept_code).data_transform()\n",
    "\n",
    "\n",
    "\n",
    "Drug_UPDATE = DrugTranslate(drug_df=Drug, translation_path=drug_translation_path).data_translate()\n",
    "connect.update_data(database=\"EDI_OMOP\", table=\"edi_voca_table\",domain = \"'Drug'\", data = Drug_UPDATE, date = date)"
   ]
  }
 ],
 "metadata": {
  "kernelspec": {
   "display_name": "Python 3",
   "language": "python",
   "name": "python3"
  },
  "language_info": {
   "codemirror_mode": {
    "name": "ipython",
    "version": 3
   },
   "file_extension": ".py",
   "mimetype": "text/x-python",
   "name": "python",
   "nbconvert_exporter": "python",
   "pygments_lexer": "ipython3",
   "version": "3.11.5"
  },
  "orig_nbformat": 4
 },
 "nbformat": 4,
 "nbformat_minor": 2
}
